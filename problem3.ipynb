{
 "cells": [
  {
   "cell_type": "markdown",
   "metadata": {
    "collapsed": true,
    "pycharm": {
     "name": "#%% md\n"
    }
   },
   "source": [
    "# problem3"
   ]
  },
  {
   "cell_type": "code",
   "execution_count": 1,
   "outputs": [],
   "source": [
    "# requirement\n",
    "import numpy as np\n",
    "import matplotlib.pyplot as plt\n",
    "\n",
    "np.random.seed(3846)"
   ],
   "metadata": {
    "collapsed": false,
    "pycharm": {
     "name": "#%%\n"
    }
   }
  },
  {
   "cell_type": "code",
   "execution_count": 2,
   "outputs": [
    {
     "data": {
      "text/plain": "[<matplotlib.lines.Line2D at 0x14e3625e0>]"
     },
     "execution_count": 2,
     "metadata": {},
     "output_type": "execute_result"
    },
    {
     "data": {
      "text/plain": "<Figure size 432x288 with 1 Axes>",
      "image/png": "[encoded data removed]"
     },
     "metadata": {
      "needs_background": "light"
     },
     "output_type": "display_data"
    }
   ],
   "source": [
    "# prepare dataset\n",
    "\n",
    "n = 40\n",
    "omega = np.random.randn()\n",
    "noise = 0.8 * np.random.randn(n)\n",
    "\n",
    "x = np.random.randn(n, 2) + 0\n",
    "y = 2 * (omega * x[:,0] + x[:,1] + noise > 0) - 1\n",
    "\n",
    "plt.plot(np.extract(y>0,x[:,0]),np.extract(y>0,x[:,1]), 'x')\n",
    "plt.plot(np.extract(y<0,x[:,0]),np.extract(y<0,x[:,1]), 'o')"
   ],
   "metadata": {
    "collapsed": false,
    "pycharm": {
     "name": "#%%\n"
    }
   }
  },
  {
   "cell_type": "markdown",
   "source": [
    "projected gradient"
   ],
   "metadata": {
    "collapsed": false,
    "pycharm": {
     "name": "#%% md\n"
    }
   }
  },
  {
   "cell_type": "code",
   "execution_count": 3,
   "outputs": [],
   "source": [
    "dual_history = []\n",
    "hinge_history = []\n",
    "\n",
    "num_iter = 300\n",
    "lam = 80\n",
    "alpha = np.random.randn(n)\n",
    "eta_base = 1"
   ],
   "metadata": {
    "collapsed": false,
    "pycharm": {
     "name": "#%%\n"
    }
   }
  },
  {
   "cell_type": "code",
   "execution_count": 4,
   "outputs": [],
   "source": [
    "def proj01 (alp):\n",
    "    alp_proj = np.zeros(alp.shape)\n",
    "    for i in range(len(alp)):\n",
    "        if np.abs(alp[i]) <= np.abs(alp[i]-1):\n",
    "            alp_proj[i]=0\n",
    "        else:\n",
    "            alp_proj[i]=1\n",
    "    return alp_proj\n",
    "\n",
    "def alpha_to_w (alp, y, x):\n",
    "    return 1 / (2 * lam) * x.T @ (alp * y)\n",
    "\n",
    "def yx_to_K (y, x):\n",
    "    Y = np.diag(y)\n",
    "    return Y.T @ x @ x.T @ Y\n",
    "\n",
    "def l2_hinge_loss (alp, y, x):\n",
    "    w = alpha_to_w(alp, y, x)\n",
    "    loss = 1 - y * (x @ w)\n",
    "    hinge_loss = np.max((np.zeros(y.shape[0]), loss), axis=0)\n",
    "    hinge_loss = np.sum(hinge_loss)\n",
    "    return hinge_loss + lam * w.T @ w\n",
    "\n",
    "def dual_lag_loss (alp, y, x):\n",
    "    K = yx_to_K(y, x)\n",
    "    return -1 / (4*lam) * alp.T @ K @ alp + np.sum(alp)\n",
    "\n",
    "def next_alpha (alp, y, x, eta):\n",
    "    K = yx_to_K(y, x)\n",
    "    direction = 1 / (2*lam) * (K @ alp) -1\n",
    "    return proj01(alp - eta * direction)\n",
    "\n",
    "\n",
    "for t in range(1,num_iter+1):\n",
    "    dual_history.append(dual_lag_loss(alpha, y, x))\n",
    "    hinge_history.append(l2_hinge_loss(alpha, y, x))\n",
    "\n",
    "    eta = eta_base / np.sqrt(t)\n",
    "    alpha = next_alpha(alpha, y, x, eta)"
   ],
   "metadata": {
    "collapsed": false,
    "pycharm": {
     "name": "#%%\n"
    }
   }
  },
  {
   "cell_type": "code",
   "execution_count": 5,
   "outputs": [
    {
     "data": {
      "text/plain": "Text(0, 0.5, 'score and loss')"
     },
     "execution_count": 5,
     "metadata": {},
     "output_type": "execute_result"
    },
    {
     "data": {
      "text/plain": "<Figure size 432x288 with 1 Axes>",
      "image/png": "[encoded data removed]"
     },
     "metadata": {
      "needs_background": "light"
     },
     "output_type": "display_data"
    }
   ],
   "source": [
    "show_iter = 10\n",
    "\n",
    "# plot the result\n",
    "plt.plot(dual_history[:show_iter], 'o-', label='dual_lagrange_score')\n",
    "plt.plot(hinge_history[:show_iter], 'o-', label='l2_hinge_loss')\n",
    "plt.legend()\n",
    "#plt.yscale('log')\n",
    "plt.xlabel('iter')\n",
    "plt.ylabel('score and loss')"
   ],
   "metadata": {
    "collapsed": false,
    "pycharm": {
     "name": "#%%\n"
    }
   }
  },
  {
   "cell_type": "code",
   "execution_count": 6,
   "outputs": [
    {
     "data": {
      "text/plain": "<Figure size 432x288 with 1 Axes>",
      "image/png": "[encoded data removed]"
     },
     "metadata": {
      "needs_background": "light"
     },
     "output_type": "display_data"
    }
   ],
   "source": [
    "# plot boundary for binary classification\n",
    "\n",
    "def plot_bi (x1, x2, y, w):\n",
    "    delta = 0.01\n",
    "    xa = np.arange(np.min(x1), np.max(x1), delta)\n",
    "    ya = np.arange(np.min(x2), np.max(x2), delta)\n",
    "    xm, ym = np.meshgrid(xa, ya)\n",
    "\n",
    "    z = xm * w[0] + ym * w[1]\n",
    "\n",
    "    plt.plot(np.extract(y==1,x1),np.extract(y==1,x2), 'x')\n",
    "    plt.plot(np.extract(y==-1,x1),np.extract(y==-1,x2), 'o')\n",
    "\n",
    "    plt.contourf(xm, ym, z, 0)\n",
    "\n",
    "\n",
    "plot_bi(x[:,0], x[:,1], y, alpha_to_w(alpha, y, x))"
   ],
   "metadata": {
    "collapsed": false,
    "pycharm": {
     "name": "#%%\n"
    }
   }
  }
 ],
 "metadata": {
  "kernelspec": {
   "display_name": "Python 3",
   "language": "python",
   "name": "python3"
  },
  "language_info": {
   "codemirror_mode": {
    "name": "ipython",
    "version": 2
   },
   "file_extension": ".py",
   "mimetype": "text/x-python",
   "name": "python",
   "nbconvert_exporter": "python",
   "pygments_lexer": "ipython2",
   "version": "2.7.6"
  }
 },
 "nbformat": 4,
 "nbformat_minor": 0
}